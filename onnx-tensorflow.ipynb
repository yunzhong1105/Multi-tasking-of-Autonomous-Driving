{
 "cells": [
  {
   "cell_type": "code",
   "execution_count": null,
   "metadata": {},
   "outputs": [],
   "source": [
    "from onnx_tf.backend import prepare\n",
    "import onnx\n",
    "\n",
    "onnx_model_path = './best_model/teacher0324_18_12_last_ckpt.onnx'\n",
    "tf_model_path = './best_model/model_tf.pb'\n",
    "\n",
    "\n",
    "onnx_model = onnx.load(onnx_model_path)\n",
    "\n",
    "print(\"-----------------------pass onnx_model---------------------\")\n",
    "\n",
    "tf_rep = prepare(onnx_model)\n",
    "\n",
    "print(\"-----------------------pass onnx_model---------------------\")\n",
    "\n",
    "tf_rep.export_graph(tf_model_path)"
   ]
  }
 ],
 "metadata": {
  "language_info": {
   "name": "python"
  },
  "orig_nbformat": 4
 },
 "nbformat": 4,
 "nbformat_minor": 2
}
