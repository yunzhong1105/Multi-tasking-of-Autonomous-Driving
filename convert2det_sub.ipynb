{
 "cells": [
  {
   "cell_type": "code",
   "execution_count": 3,
   "metadata": {},
   "outputs": [
    {
     "name": "stderr",
     "output_type": "stream",
     "text": [
      "100%|██████████| 7351/7351 [01:41<00:00, 72.39it/s] \n"
     ]
    }
   ],
   "source": [
    "import os, tqdm\n",
    "\n",
    "def batch_convert_yolo_to_csv(input_folder_path, output_file_path):\n",
    "    with open(output_file_path, 'w') as f:\n",
    "        f.write('image_filename,label_id,x,y,w,h,confidence\\n')\n",
    "        for file_name in tqdm.tqdm(os.listdir(input_folder_path)):\n",
    "            if file_name.endswith('.txt'):\n",
    "                image_name = os.path.splitext(file_name)[0]\n",
    "                image_path = os.path.join(input_folder_path, image_name + '.jpg')\n",
    "                image_width, image_height = get_image_size(image_path)\n",
    "                with open(os.path.join(input_folder_path, file_name), 'r') as txt_file:\n",
    "                    for line in txt_file:\n",
    "                        class_id, x, y, w, h, confidence = map(float, line.strip().split(' '))\n",
    "                        x_min = int((x - w/2) * image_width)\n",
    "                        y_min = int((y - h/2) * image_height)\n",
    "                        x_max = int((x + w/2) * image_width)\n",
    "                        y_max = int((y + h/2) * image_height)\n",
    "                        f.write(f\"{image_name+'.jpg'},{int(class_id)+1},{x_min},{y_min},{x_max - x_min},{y_max - y_min},{confidence}\\n\")\n",
    "\n",
    "def get_image_size(image_path):\n",
    "    from PIL import Image\n",
    "    with Image.open(image_path) as img:\n",
    "        return img.size\n",
    "\n",
    "# 使用範例\n",
    "batch_convert_yolo_to_csv('det_sub/det/', 'submission.csv')\n"
   ]
  },
  {
   "cell_type": "code",
   "execution_count": 7,
   "metadata": {},
   "outputs": [],
   "source": [
    "import cv2\n",
    "import numpy as np\n",
    "img = cv2.imread(\"cvpr_infer/output/seg/0a0a0b1a-7c39d841.png\")\n",
    "img = cv2.imread(\"cvpr_infer/output/seg/0a0ba96d-7859aaa6.png\")"
   ]
  },
  {
   "cell_type": "code",
   "execution_count": 8,
   "metadata": {},
   "outputs": [
    {
     "data": {
      "text/plain": [
       "array([ 0,  1,  2,  4,  8,  9, 19], dtype=uint8)"
      ]
     },
     "execution_count": 8,
     "metadata": {},
     "output_type": "execute_result"
    }
   ],
   "source": [
    "np.unique(img)"
   ]
  }
 ],
 "metadata": {
  "kernelspec": {
   "display_name": "Python 3 (ipykernel)",
   "language": "python",
   "name": "python3"
  },
  "language_info": {
   "codemirror_mode": {
    "name": "ipython",
    "version": 3
   },
   "file_extension": ".py",
   "mimetype": "text/x-python",
   "name": "python",
   "nbconvert_exporter": "python",
   "pygments_lexer": "ipython3",
   "version": "3.10.9"
  }
 },
 "nbformat": 4,
 "nbformat_minor": 4
}
