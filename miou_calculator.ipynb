{
 "cells": [
  {
   "cell_type": "code",
   "execution_count": 1,
   "metadata": {},
   "outputs": [
    {
     "name": "stdout",
     "output_type": "stream",
     "text": [
      "################################################################################\n"
     ]
    },
    {
     "name": "stderr",
     "output_type": "stream",
     "text": [
      "100%|██████████| 20/20 [01:12<00:00,  3.63s/it]\n"
     ]
    },
    {
     "name": "stdout",
     "output_type": "stream",
     "text": [
      "################################################################################\n",
      "################################################################################\n",
      "################################################################################\n",
      "################################################################################\n",
      "################################################################################\n",
      "################################################################################\n",
      "################################################################################\n",
      "################################################################################\n",
      "################################################################################\n",
      "################################################################################\n",
      "################################################################################\n",
      "################################################################################\n",
      "################################################################################\n",
      "################################################################################\n",
      "################################################################################\n",
      "################################################################################\n",
      "################################################################################\n",
      "################################################################################\n",
      "################################################################################\n",
      "################################################################################\n",
      "0.17986693882895163\n"
     ]
    },
    {
     "name": "stderr",
     "output_type": "stream",
     "text": [
      "100%|██████████| 20/20 [01:12<00:00,  3.63s/it]\n"
     ]
    },
    {
     "name": "stdout",
     "output_type": "stream",
     "text": [
      "################################################################################\n",
      "################################################################################\n",
      "################################################################################\n",
      "################################################################################\n",
      "################################################################################\n",
      "################################################################################\n",
      "################################################################################\n",
      "################################################################################\n",
      "################################################################################\n",
      "################################################################################\n",
      "################################################################################\n",
      "################################################################################\n",
      "################################################################################\n",
      "################################################################################\n",
      "################################################################################\n",
      "################################################################################\n",
      "################################################################################\n",
      "################################################################################\n",
      "################################################################################\n",
      "################################################################################\n",
      "0.22927061524683498\n"
     ]
    },
    {
     "name": "stderr",
     "output_type": "stream",
     "text": [
      "100%|██████████| 20/20 [01:12<00:00,  3.65s/it]\n"
     ]
    },
    {
     "name": "stdout",
     "output_type": "stream",
     "text": [
      "################################################################################\n",
      "################################################################################\n",
      "################################################################################\n",
      "################################################################################\n",
      "################################################################################\n",
      "################################################################################\n",
      "################################################################################\n",
      "################################################################################\n",
      "################################################################################\n",
      "################################################################################\n",
      "################################################################################\n",
      "################################################################################\n",
      "################################################################################\n",
      "################################################################################\n",
      "################################################################################\n",
      "################################################################################\n",
      "################################################################################\n",
      "################################################################################\n",
      "################################################################################\n",
      "################################################################################\n",
      "0.2842614850573603\n"
     ]
    },
    {
     "name": "stderr",
     "output_type": "stream",
     "text": [
      "100%|██████████| 20/20 [01:12<00:00,  3.63s/it]\n"
     ]
    },
    {
     "name": "stdout",
     "output_type": "stream",
     "text": [
      "################################################################################\n",
      "################################################################################\n",
      "################################################################################\n",
      "################################################################################\n",
      "################################################################################\n",
      "################################################################################\n",
      "################################################################################\n",
      "################################################################################\n",
      "################################################################################\n",
      "################################################################################\n",
      "################################################################################\n",
      "################################################################################\n",
      "################################################################################\n",
      "################################################################################\n",
      "################################################################################\n",
      "################################################################################\n",
      "################################################################################\n",
      "################################################################################\n",
      "################################################################################\n",
      "################################################################################\n",
      "0.2923501918806261\n"
     ]
    },
    {
     "name": "stderr",
     "output_type": "stream",
     "text": [
      "100%|██████████| 20/20 [01:12<00:00,  3.62s/it]"
     ]
    },
    {
     "name": "stdout",
     "output_type": "stream",
     "text": [
      "################################################################################\n",
      "################################################################################\n",
      "################################################################################\n",
      "################################################################################\n",
      "################################################################################\n",
      "################################################################################\n",
      "################################################################################\n",
      "################################################################################\n",
      "################################################################################\n",
      "################################################################################\n",
      "################################################################################\n",
      "################################################################################\n",
      "################################################################################\n",
      "################################################################################\n",
      "################################################################################\n",
      "################################################################################\n",
      "################################################################################\n",
      "################################################################################\n",
      "################################################################################\n",
      "################################################################################\n",
      "0.19796338309085912\n"
     ]
    },
    {
     "name": "stderr",
     "output_type": "stream",
     "text": [
      "\n"
     ]
    }
   ],
   "source": [
    "import numpy as np\n",
    "import cv2\n",
    "import os\n",
    "import glob\n",
    "import tqdm\n",
    "\n",
    "gts_path = \"/home/re6101029/CVPR2023comp/yolov6/cvpr_infer/gt/seg/*\"\n",
    "preds_path = \"/home/re6101029/CVPR2023comp/yolov6/cvpr_infer/output/seg/*\"\n",
    "\n",
    "gts = glob.glob(gts_path)\n",
    "preds = glob.glob(preds_path)\n",
    "\n",
    "print(\"#\"*80)\n",
    "\n",
    "for i in range(len(gts)) :\n",
    "    gt_img = cv2.imread(gts[i] , cv2.IMREAD_GRAYSCALE)\n",
    "    pred_img = cv2.imread(preds[i] , cv2.IMREAD_GRAYSCALE)\n",
    "\n",
    "    num_classes = 20  # 类别的总数\n",
    "\n",
    "    # 初始化 TP、FP、TN、FN 列表，每个类别一个\n",
    "    TP = [0] * num_classes\n",
    "    FP = [0] * num_classes\n",
    "    TN = [0] * num_classes\n",
    "    FN = [0] * num_classes\n",
    "\n",
    "    # 计算 TP、FP、TN、FN\n",
    "    for class_id in tqdm.tqdm(range(num_classes)):\n",
    "        for i in range(len(pred_img)):\n",
    "            for j in range(len(pred_img[0])):\n",
    "                if pred_img[i][j] == class_id and gt_img[i][j] == class_id:\n",
    "                    TP[class_id] += 1\n",
    "                elif pred_img[i][j] == class_id and gt_img[i][j] != class_id:\n",
    "                    FP[class_id] += 1\n",
    "                elif pred_img[i][j] != class_id and gt_img[i][j] != class_id:\n",
    "                    TN[class_id] += 1\n",
    "                else:\n",
    "                    FN[class_id] += 1\n",
    "\n",
    "    # 打印每个类别的 TP、FP、TN、FN\n",
    "    iou_list = []\n",
    "    for class_id in range(num_classes):\n",
    "        # print(f\"Class {class_id}:\" , f\"TP: {TP[class_id]}\" , f\"FP: {FP[class_id]}\" , f\"TN: {TN[class_id]}\" , f\"FN: {FN[class_id]}\")\n",
    "        try :\n",
    "            iou = TP[class_id] / (TP[class_id] + FP[class_id] + FN[class_id])\n",
    "        except :\n",
    "            iou = 0\n",
    "        iou_list.append(iou)\n",
    "        print(\"#\"*80)\n",
    "    \n",
    "    print(sum(iou_list) / len(iou_list))"
   ]
  },
  {
   "cell_type": "code",
   "execution_count": null,
   "metadata": {},
   "outputs": [],
   "source": []
  },
  {
   "cell_type": "code",
   "execution_count": 2,
   "metadata": {},
   "outputs": [
    {
     "name": "stdout",
     "output_type": "stream",
     "text": [
      "Tensor with shape [8, 192, 40, 40]:\n",
      " <class 'torch.Tensor'> | torch.Size([8, 192, 40, 40])\n",
      "\n",
      "Tensor with shape [8, 384, 20, 20]:\n",
      " <class 'torch.Tensor'> | torch.Size([8, 384, 20, 20])\n",
      "\n",
      "Tensor with shape [8, 768, 10, 10]:\n",
      " <class 'torch.Tensor'> | torch.Size([8, 768, 10, 10])\n"
     ]
    }
   ],
   "source": [
    "import numpy as np\n",
    "import torch\n",
    "\n",
    "def generate_tensor(shape):\n",
    "    return np.random.rand(*shape).astype(np.float32)\n",
    "\n",
    "# 產生[8, 192, 40, 40]的tensor\n",
    "tensor1 = torch.from_numpy(generate_tensor([8, 192, 40, 40]))\n",
    "\n",
    "# 產生[8, 384, 20, 20]的tensor\n",
    "tensor2 = torch.from_numpy(generate_tensor([8, 384, 20, 20]))\n",
    "\n",
    "# 產生[8, 768, 10, 10]的tensor\n",
    "tensor3 = torch.from_numpy(generate_tensor([8, 768, 10, 10]))\n",
    "\n",
    "print(\"Tensor with shape [8, 192, 40, 40]:\\n\", type(tensor1) , \"|\" , tensor1.shape)\n",
    "print(\"\\nTensor with shape [8, 384, 20, 20]:\\n\", type(tensor2) , \"|\" , tensor2.shape)\n",
    "print(\"\\nTensor with shape [8, 768, 10, 10]:\\n\", type(tensor3) , \"|\" , tensor3.shape)\n",
    "\n",
    "tensors = [tensor1 , tensor2 , tensor3]"
   ]
  },
  {
   "cell_type": "code",
   "execution_count": 3,
   "metadata": {},
   "outputs": [
    {
     "name": "stdout",
     "output_type": "stream",
     "text": [
      "torch.Size([8, 64, 13, 13])\n",
      "torch.Size([8, 64, 13, 13])\n",
      "====================================================================================================\n",
      "torch.Size([8, 64, 6, 6])\n",
      "torch.Size([8, 64, 13, 13])\n",
      "====================================================================================================\n",
      "torch.Size([8, 64, 3, 3])\n",
      "torch.Size([8, 64, 13, 13])\n",
      "====================================================================================================\n"
     ]
    }
   ],
   "source": [
    "import torch\n",
    "import torch.nn as nn\n",
    "import torch.nn.functional as F\n",
    "\n",
    "# 定義三個不同形狀的特徵\n",
    "features_shapes = [(8, 192, 40, 40), (8, 384, 20, 20), (8, 768, 10, 10)]\n",
    "\n",
    "\n",
    "# 對每個特徵進行處理\n",
    "for i , shape in enumerate(features_shapes) :\n",
    "    # 取得特徵的通道數\n",
    "    in_channels = shape[1]\n",
    "    # 設定輸出的特徵通道數為64，你可以根據需求調整\n",
    "    out_channels = 64\n",
    "    # 假設你想使用3x3的卷積核，並保持其他參數相同\n",
    "    kernel_size = 3\n",
    "    stride = 1\n",
    "    padding = 1\n",
    "    \n",
    "    # 定義 Conv2d\n",
    "    conv = nn.Conv2d(in_channels, out_channels, kernel_size, stride, padding)\n",
    "    relu = nn.ReLU(inplace = True)\n",
    "    pool = nn.MaxPool2d(kernel_size = (3 , 3))\n",
    "    # flat = nn.Flatten()\n",
    "    # linear1 = nn.Linear()\n",
    "    c_out = conv(tensors[i])\n",
    "    r_out = relu(c_out)\n",
    "    p_out = pool(r_out)\n",
    "    if i == 0 :\n",
    "        fusion_feat = p_out\n",
    "    elif i == 1 :\n",
    "        fusion_feat +=  F.interpolate(p_out , scale_factor = 13/6 , mode = \"bilinear\" , align_corners = True)\n",
    "    else :\n",
    "        fusion_feat +=  F.interpolate(p_out , scale_factor = 13/3 , mode = \"bilinear\" , align_corners = True)\n",
    "    \n",
    "    # f_out = flat(p_out)\n",
    "    # x = p_out.view(p_out.size(0) , -1)\n",
    "    print(p_out.shape)\n",
    "    print(fusion_feat.shape)\n",
    "    # print(p_out)\n",
    "    # print(x.shape)\n",
    "    print(\"=\"*100)\n",
    "    # l1 = linear1(f_out)\n",
    "\n",
    "    # print(type(out) , \"|\" , out.shape)\n",
    "    # 輸出 Conv2d 的參數形狀\n",
    "    # print(\"Conv2d parameters for feature shape\", shape, \":\", conv)\n",
    "    # print(type(conv))\n"
   ]
  },
  {
   "cell_type": "code",
   "execution_count": 27,
   "metadata": {},
   "outputs": [],
   "source": [
    "import pandas as pd\n",
    "import matplotlib.pyplot as plt\n",
    "pd.set_option('display.max_rows', None)\n",
    "path = \"/ssd5/CVPR2023comp/track1_train_data/cls/train.txt\"\n",
    "\n",
    "L = []\n",
    "with open(path , \"r\") as f :\n",
    "    f = f.readlines()\n",
    "    for t in f :\n",
    "        L.append(t.strip(\"\\n\").split(\"\\t\"))\n",
    "df = pd.DataFrame(L , columns =['img' , 'class']) \n",
    "\n",
    "v_counts = df[\"class\"].value_counts()\n",
    "v_counts.index = v_counts.index.astype(int)\n",
    "v_counts = v_counts.sort_index()"
   ]
  },
  {
   "cell_type": "code",
   "execution_count": 28,
   "metadata": {},
   "outputs": [
    {
     "data": {
      "image/png": "[encoded data removed]",
      "text/plain": [
       "<Figure size 640x480 with 1 Axes>"
      ]
     },
     "metadata": {},
     "output_type": "display_data"
    }
   ],
   "source": [
    "x = v_counts.index\n",
    "y = v_counts.values\n",
    "\n",
    "plt.scatter(x , y)\n",
    "plt.show()"
   ]
  }
 ],
 "metadata": {
  "kernelspec": {
   "display_name": "base",
   "language": "python",
   "name": "python3"
  },
  "language_info": {
   "codemirror_mode": {
    "name": "ipython",
    "version": 3
   },
   "file_extension": ".py",
   "mimetype": "text/x-python",
   "name": "python",
   "nbconvert_exporter": "python",
   "pygments_lexer": "ipython3",
   "version": "3.10.9"
  },
  "orig_nbformat": 4
 },
 "nbformat": 4,
 "nbformat_minor": 2
}
